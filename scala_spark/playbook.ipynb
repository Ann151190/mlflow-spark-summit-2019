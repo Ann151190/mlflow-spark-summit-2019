{
 "cells": [
  {
   "cell_type": "markdown",
   "metadata": {},
   "source": [
    "## scala_spark playbook"
   ]
  },
  {
   "cell_type": "code",
   "execution_count": 4,
   "metadata": {},
   "outputs": [
    {
     "name": "stdout",
     "output_type": "stream",
     "text": [
      "mlflow, version 0.9.1\r\n"
     ]
    }
   ],
   "source": [
    "! mlflow --version"
   ]
  },
  {
   "cell_type": "code",
   "execution_count": 5,
   "metadata": {},
   "outputs": [],
   "source": [
    "import os\n",
    "os.environ[\"MLFLOW_TRACKING_URI\"] = \"http://localhost:5000\""
   ]
  },
  {
   "cell_type": "code",
   "execution_count": 10,
   "metadata": {},
   "outputs": [
    {
     "name": "stdout",
     "output_type": "stream",
     "text": [
      "19/04/24 21:11:52 WARN Utils: Your hostname, C02VD1RGHTDD resolves to a loopback address: 127.0.0.1; using 10.64.185.74 instead (on interface en0)\n",
      "19/04/24 21:11:52 WARN Utils: Set SPARK_LOCAL_IP if you need to bind to another address\n",
      "19/04/24 21:11:52 WARN NativeCodeLoader: Unable to load native-hadoop library for your platform... using builtin-java classes where applicable\n",
      "args: [Ljava.lang.String;@27216cd\n",
      "Tracking URI: http://localhost:5000\n",
      "Experiment name: scala_HelloWorld\n",
      "Experiment ID: 5\n",
      "Run ID: 5d44fd992c94459fbcb0a1c56a75db58\n"
     ]
    }
   ],
   "source": [
    "! spark-submit --master local[2] \\\n",
    "  --class org.andre.mlflow.examples.hello.HelloWorld \\\n",
    "  target/mlflow-spark-examples-1.0-SNAPSHOT.jar \\\n",
    "  http://localhost:5000"
   ]
  },
  {
   "cell_type": "code",
   "execution_count": 9,
   "metadata": {},
   "outputs": [
    {
     "name": "stdout",
     "output_type": "stream",
     "text": [
      "19/04/24 21:11:29 WARN Utils: Your hostname, C02VD1RGHTDD resolves to a loopback address: 127.0.0.1; using 10.64.185.74 instead (on interface en0)\n",
      "19/04/24 21:11:29 WARN Utils: Set SPARK_LOCAL_IP if you need to bind to another address\n",
      "19/04/24 21:11:29 WARN NativeCodeLoader: Unable to load native-hadoop library for your platform... using builtin-java classes where applicable\n",
      "Options:\n",
      "  Tracking URI: http://localhost:5000\n",
      "  token: null\n",
      "  experimentName: scala_DecisionTree\n",
      "  dataPath: ../data/sample_libsvm_data.txt\n",
      "  modelPath: model_sample\n",
      "  maxDepth: 5\n",
      "  maxBins: 5\n",
      "  runOrigin: None\n",
      "Experiment ID: 4\n",
      "Run ID: 1b95d7319070445c9b497e4c51ef3d01\n",
      "runOrigin: None\n",
      "Params:\n",
      "  maxDepth: 5\n",
      "  maxBins: 5\n",
      "Metrics:\n",
      "  RMSE: 0.2970442628930023\n",
      "  isLargerBetter: false\n",
      "Prediction:\n",
      "+----------+-----+--------------------+\n",
      "|prediction|label|            features|\n",
      "+----------+-----+--------------------+\n",
      "|       0.0|  0.0|(692,[100,101,102...|\n",
      "|       0.0|  0.0|(692,[121,122,123...|\n",
      "|       0.0|  0.0|(692,[124,125,126...|\n",
      "|       0.0|  0.0|(692,[124,125,126...|\n",
      "|       0.0|  0.0|(692,[124,125,126...|\n",
      "+----------+-----+--------------------+\n",
      "only showing top 5 rows\n",
      "\n",
      "Learned regression tree model:\n",
      " DecisionTreeRegressionModel (uid=dtr_eaa0ec226e98) of depth 2 with 5 nodes\n",
      "  If (feature 407 <= 9.5)\n",
      "   If (feature 243 <= 4.0)\n",
      "    Predict: 1.0\n",
      "   Else (feature 243 > 4.0)\n",
      "    Predict: 0.0\n",
      "  Else (feature 407 > 9.5)\n",
      "   Predict: 1.0\n",
      "\n"
     ]
    }
   ],
   "source": [
    "! spark-submit --master local[2] \\\n",
    "  --class org.andre.mlflow.examples.decisiontree.TrainDecisionTree \\\n",
    "  target/mlflow-spark-examples-1.0-SNAPSHOT.jar \\\n",
    "  --trackingUri http://localhost:5000 \\\n",
    "  --experimentName scala_DecisionTree \\\n",
    "  --dataPath ../data/sample_libsvm_data.txt \\\n",
    "  --modelPath model_sample --maxDepth 5 --maxBins 5"
   ]
  }
 ],
 "metadata": {
  "kernelspec": {
   "display_name": "Python 3",
   "language": "python",
   "name": "python3"
  },
  "language_info": {
   "codemirror_mode": {
    "name": "ipython",
    "version": 3
   },
   "file_extension": ".py",
   "mimetype": "text/x-python",
   "name": "python",
   "nbconvert_exporter": "python",
   "pygments_lexer": "ipython3",
   "version": "3.6.8"
  }
 },
 "nbformat": 4,
 "nbformat_minor": 2
}
