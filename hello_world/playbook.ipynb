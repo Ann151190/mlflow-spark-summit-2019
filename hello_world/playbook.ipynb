{
 "cells": [
  {
   "cell_type": "markdown",
   "metadata": {},
   "source": [
    "## hello_world playbook"
   ]
  },
  {
   "cell_type": "code",
   "execution_count": 3,
   "metadata": {},
   "outputs": [],
   "source": [
    "import os\n",
    "os.environ[\"MLFLOW_TRACKING_URI\"] = \"http://localhost:5000\""
   ]
  },
  {
   "cell_type": "code",
   "execution_count": 4,
   "metadata": {},
   "outputs": [
    {
     "name": "stdout",
     "output_type": "stream",
     "text": [
      "MLflow Version: 0.9.1\n",
      "Tracking URI: http://localhost:5000\n",
      "experiment_name: hello_world\n",
      "experiment_id: 1\n",
      "runId: daac922bf6474045bda1f3e36736a517\n",
      "artifact_uri: /Users/ander/work/mlflow/local_mlrun/mlruns/1/daac922bf6474045bda1f3e36736a517/artifacts\n",
      "alpha: 0.1\n",
      "log_artifact: False\n",
      "run_origin: \n"
     ]
    }
   ],
   "source": [
    "! python hello_world.py"
   ]
  },
  {
   "cell_type": "code",
   "execution_count": 5,
   "metadata": {},
   "outputs": [
    {
     "name": "stdout",
     "output_type": "stream",
     "text": [
      "MLflow Version: 0.9.1\n",
      "Tracking URI: http://localhost:5000\n",
      "experiment_name: hello_world\n",
      "experiment_id: 1\n",
      "runId: fdb6552fbe7b4c25b7d1cd7a813581db\n",
      "artifact_uri: /Users/ander/work/mlflow/local_mlrun/mlruns/1/fdb6552fbe7b4c25b7d1cd7a813581db/artifacts\n",
      "alpha: 0.1\n",
      "log_artifact: True\n",
      "run_origin: \n"
     ]
    }
   ],
   "source": [
    "! python hello_world.py --log_artifact True"
   ]
  },
  {
   "cell_type": "code",
   "execution_count": 6,
   "metadata": {},
   "outputs": [
    {
     "name": "stdout",
     "output_type": "stream",
     "text": [
      "2019/04/24 21:18:05 INFO mlflow.projects: === Created directory /var/folders/_9/tbkxzw0116v2cp_zq4f1_1cm0000gp/T/tmpa03tjmqq for downloading remote URIs passed to arguments of type 'path' ===\n",
      "2019/04/24 21:18:05 INFO mlflow.projects: === Running command 'source activate mlflow-aacce47b0cb7984f4aead56265692d3969388f30 && python hello_world.py --alpha .01 --run_origin LocalRun --log_artifact True' in run with ID '86dbabcbf73946a1a877b869c78c56b9' === \n",
      "MLflow Version: 0.9.1\n",
      "Tracking URI: http://localhost:5000\n",
      "experiment_name: hello_world\n",
      "experiment_id: 1\n",
      "runId: 86dbabcbf73946a1a877b869c78c56b9\n",
      "artifact_uri: /Users/ander/work/mlflow/local_mlrun/mlruns/0/86dbabcbf73946a1a877b869c78c56b9/artifacts\n",
      "alpha: 0.01\n",
      "log_artifact: True\n",
      "run_origin: LocalRun\n",
      "2019/04/24 21:18:10 INFO mlflow.projects: === Run (ID '86dbabcbf73946a1a877b869c78c56b9') succeeded ===\n"
     ]
    }
   ],
   "source": [
    "! mlflow run . -Palpha=.01 -Prun_origin=LocalRun -Plog_artifact=True"
   ]
  }
 ],
 "metadata": {
  "kernelspec": {
   "display_name": "Python 3",
   "language": "python",
   "name": "python3"
  },
  "language_info": {
   "codemirror_mode": {
    "name": "ipython",
    "version": 3
   },
   "file_extension": ".py",
   "mimetype": "text/x-python",
   "name": "python",
   "nbconvert_exporter": "python",
   "pygments_lexer": "ipython3",
   "version": "3.6.8"
  }
 },
 "nbformat": 4,
 "nbformat_minor": 2
}
